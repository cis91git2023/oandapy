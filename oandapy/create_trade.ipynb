{
 "cells": [
  {
   "cell_type": "code",
   "execution_count": null,
   "id": "55e7d987-bd15-4039-b66c-a2c07cec8328",
   "metadata": {},
   "outputs": [],
   "source": [
    "# Example function to create a trade\n",
    "def create_trade(instrument, units):\n",
    "    # Prepare the request data\n",
    "    data = {\n",
    "        \"order\": {\n",
    "            \"instrument\": instrument,\n",
    "            \"units\": units,\n",
    "            \"type\": \"MARKET\",\n",
    "            \"positionFill\": \"DEFAULT\"\n",
    "        }\n",
    "    }\n",
    "    \n",
    "    # Send a request to OANDA's API to create a trade\n",
    "    response = ctx.order.market_order(accountID=\"your_account_id\", **data)\n",
    "    \n",
    "    # Check the response status\n",
    "    if response.status == 201:  # 201 Created\n",
    "        trade_id = response.body[\"orderFillTransaction\"][\"tradeOpened\"][\"tradeID\"]\n",
    "        print(\"Trade created successfully. Trade ID:\", trade_id)\n",
    "        return trade_id\n",
    "    else:\n",
    "        print(\"Error creating trade:\", response.status, response.body)\n",
    "        return None\n",
    "\n",
    "# Example usage\n",
    "trade_id = create_trade(\"EUR_USD\", 100)"
   ]
  }
 ],
 "metadata": {
  "kernelspec": {
   "display_name": "Python 3 (ipykernel)",
   "language": "python",
   "name": "python3"
  },
  "language_info": {
   "codemirror_mode": {
    "name": "ipython",
    "version": 3
   },
   "file_extension": ".py",
   "mimetype": "text/x-python",
   "name": "python",
   "nbconvert_exporter": "python",
   "pygments_lexer": "ipython3",
   "version": "3.12.3"
  }
 },
 "nbformat": 4,
 "nbformat_minor": 5
}
